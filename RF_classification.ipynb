{
  "cells": [
    {
      "cell_type": "code",
      "execution_count": null,
      "metadata": {
        "id": "McF8z7NsSAar"
      },
      "outputs": [],
      "source": [
        "#install libraries\n",
        "import gdal\n",
        "import ogr\n",
        "import math\n",
        "from sklearn import metrics\n",
        "from sklearn import svm\n",
        "from sklearn.feature_selection import SelectFromModel\n",
        "from sklearn.ensemble import RandomForestClassifier\n",
        "import numpy as np\n",
        "import matplotlib.pyplot as plt\n",
        "import pandas as pd\n",
        "from sklearn.metrics import cohen_kappa_score\n",
        "from sklearn.metrics import mean_squared_error"
      ]
    },
    {
      "cell_type": "code",
      "execution_count": null,
      "metadata": {
        "id": "xou8aS1eSAat"
      },
      "outputs": [],
      "source": [
        "#Function definition\n",
        "def rasterizeVector(path_to_vector, cols, rows, geo_transform, projection, n_class, raster):\n",
        "    lblRaster = np.zeros((rows, cols))\n",
        "    inputDS = ogr.Open(path_to_vector)\n",
        "    driver = gdal.GetDriverByName('MEM')\n",
        "    # Define spatial reference\n",
        "    for j in range(n_class):\n",
        "        shpLayer = inputDS.GetLayer(0)\n",
        "        class_id = j+1\n",
        "        rasterDS = driver.Create('', cols, rows, 1, gdal.GDT_UInt16)\n",
        "        rasterDS.SetGeoTransform(geo_transform)\n",
        "        rasterDS.SetProjection(projection)\n",
        "        shpLayer.SetAttributeFilter(\"class_id = \" + str(class_id))\n",
        "        bnd = rasterDS.GetRasterBand(1)\n",
        "        bnd.FlushCache()\n",
        "        gdal.RasterizeLayer(rasterDS, [1], shpLayer, burn_values=[class_id])\n",
        "        arr = bnd.ReadAsArray()\n",
        "        lblRaster += arr\n",
        "        rasterDS = None\n",
        "    save_raster = gdal.GetDriverByName('GTiff').Create(raster, cols, rows, 1, gdal.GDT_UInt16)\n",
        "    sband = save_raster.GetRasterBand(1)\n",
        "    sband.WriteArray(lblRaster)\n",
        "    sband.FlushCache()\n",
        "    return lblRaster\n",
        "\n",
        "\n",
        "def make_binary_labels(labelraster):\n",
        "    labels = np.unique(labelraster)\n",
        "    n = labels.size\n",
        "    binary_label_dump = list()\n",
        "    buffer_array = np.zeros_like(labelraster)\n",
        "    for l in labels:\n",
        "        np.place(buffer_array, labelraster==2, l)\n",
        "        binary_label_dump.append(buffer_array)\n",
        "        buffer_array = np.zeros_like(labelraster)\n",
        "    return binary_label_dump\n",
        "\n",
        "\n",
        "def createGeotiff(outRaster, data, geo_transform, projection, dtyp, bcount=1):\n",
        "    # Create a GeoTIFF file with the given data\n",
        "    driver = gdal.GetDriverByName('GTiff')\n",
        "    rows, cols, _ = data.shape\n",
        "    rasterDS = driver.Create(outRaster, cols, rows, bcount, dtyp)\n",
        "    rasterDS.SetGeoTransform(geo_transform)\n",
        "    rasterDS.SetProjection(projection)\n",
        "    for i in range(bcount):\n",
        "        band = rasterDS.GetRasterBand(i+1)\n",
        "        band.WriteArray(data[:, :, i])\n",
        "        band.FlushCache()\n",
        "    return 0\n",
        "\n",
        "def check_accuracy(actual_labels, predicted_labels, label_count):\n",
        "    error_matrix = np.zeros((label_count, label_count))\n",
        "    for actual, predicted in zip(actual_labels, predicted_labels):\n",
        "        #print(type(actual), type(predicted))\n",
        "        error_matrix[int(actual) - 1][int(predicted) - 1] += 1 \n",
        "    return error_matrix"
      ]
    },
    {
      "cell_type": "code",
      "execution_count": null,
      "metadata": {
        "id": "cN2Yp7mBSAau"
      },
      "outputs": [],
      "source": [
        "#input files (give the path for input image, training data & testing data shapefile)\n",
        "inpRaster = r\"/Path to image/image.tif\" \n",
        "shapefile = r\"/Path to training data shapefile/ground_data_train.shp\"   #training data shapefile\n",
        "shapefile_test = r\"/Path to testing data shapefile/ground_data_test.shp\"   #testing data shapefile\n"
      ]
    },
    {
      "cell_type": "code",
      "execution_count": null,
      "metadata": {
        "id": "0ne0PPEWSAav"
      },
      "outputs": [],
      "source": [
        "#set output path\n",
        "outRaster = r\"/path to output location/RandomForest.tif\"\n",
        "out_prob = r\"/path to output location/Probability_Map.tif\"\n",
        "rasterized_shp = r\"/path to output location/Rasterized.tif\"\n",
        "rasterized_shp_test = r\"/path to output location/Rasterized_test.tif\"\n"
      ]
    },
    {
      "cell_type": "code",
      "execution_count": null,
      "metadata": {
        "id": "MIaR8ajeSAav"
      },
      "outputs": [],
      "source": [
        "# Open raster dataset\n",
        "rasterDS = gdal.Open(inpRaster, gdal.GA_ReadOnly)\n",
        "# Get spatial reference\n",
        "geo_transform = rasterDS.GetGeoTransform()\n",
        "projection = rasterDS.GetProjectionRef()\n",
        "\n",
        "# Extract band's data and transform into a numpy array\n",
        "bandsData = []\n",
        "for b in range(rasterDS.RasterCount):\n",
        "    band = rasterDS.GetRasterBand(b+1)\n",
        "    band_arr = band.ReadAsArray()\n",
        "    bandsData.append(band_arr)\n",
        "bandsData = np.dstack(bandsData)\n",
        "cols, rows, noBands = bandsData.shape"
      ]
    },
    {
      "cell_type": "code",
      "execution_count": 1,
      "metadata": {
        "id": "KZN5rAKHSAaw"
      },
      "outputs": [],
      "source": [
        "# Rasterize all the vectors in the given directory into a single labelled raster\n",
        "lblRaster = rasterizeVector(shapefile, rows, cols, geo_transform, projection, n_class=6, raster=rasterized_shp) # change n_class: it is number of classes\n",
        "lblRaster_test = rasterizeVector(shapefile_test, rows, cols, geo_transform, projection, n_class=6, raster=rasterized_shp_test) # change n_class\n",
        "\n",
        "print('Vectors Rasterized to Raster!')"
      ]
    },
    {
      "cell_type": "code",
      "execution_count": null,
      "metadata": {
        "id": "t6laGQhOSAaw"
      },
      "outputs": [],
      "source": [
        "# Prepare training data (set of pixels used for training) and labels\n",
        "isTrain = np.nonzero(lblRaster)\n",
        "isTest = np.nonzero(lblRaster_test)\n",
        "trainingLabels = lblRaster[isTrain]\n",
        "testingLabels = lblRaster_test[isTest]\n",
        "# print(np.unique(trainingLabels))\n",
        "trainingData = bandsData[isTrain]\n",
        "testingData = bandsData[isTest]"
      ]
    },
    {
      "cell_type": "code",
      "execution_count": 2,
      "metadata": {
        "id": "8TsjC2PzSAax"
      },
      "outputs": [],
      "source": [
        "# Train a Random Forest classifier\n",
        "classifier = RandomForestClassifier(n_jobs=4, n_estimators=500, criterion='gini', oob_score= True, max_features= 19)\n",
        "classifier.fit(trainingData, trainingLabels)\n"
      ]
    },
    {
      "cell_type": "code",
      "execution_count": null,
      "metadata": {
        "id": "HW8uJYrzSAax"
      },
      "outputs": [],
      "source": [
        "# Feature importance\n",
        "importances = classifier.feature_importances_\n",
        "std = np.std([tree.feature_importances_ for tree in classifier.estimators_], axis=0)\n",
        "indices = np.argsort(importances)[::-1]\n",
        "\n",
        "def importanceFunction(train_data, train_labels, test_data, test_labels, old_acc=0, new_acc=0):\n",
        "    originalFeatures = len(range(train_data.shape[1]))\n",
        "    reducedFeatures = int(originalFeatures*0.8)\n",
        "    print('original features:', originalFeatures)\n",
        "    classifier.fit(train_data,train_labels)\n",
        "    old_acc=new_acc\n",
        "    new_acc = classifier.score(test_data, test_labels)\n",
        "    print('old accuracy:', old_acc)\n",
        "    print('new accuracy:', new_acc)\n",
        "    print('reduced features:', reducedFeatures)\n",
        "    \n",
        "    importances = classifier.feature_importances_\n",
        "    indices = np.argsort(importances)[::-1]\n",
        "    thld = importances[indices[reducedFeatures - 1]]\n",
        "    if new_acc > old_acc:\n",
        "        print('Since new>old, reducing last 20% bands')\n",
        "        sfm =  SelectFromModel(classifier, threshold = thld, prefit=True)\n",
        "        train_new = sfm.transform(train_data)\n",
        "        test_new = sfm.transform(test_data)\n",
        "        result = importanceFunction(train_new, train_labels, test_new, test_labels, old_acc, new_acc)\n",
        "    else:\n",
        "        print('Since old>new, previous iteration gave best accuracy with %d bands' % originalFeatures)\n",
        "        result = reducedFeatures\n",
        "    return result;\n",
        "\n",
        "\n",
        "originalFeatures = len(range(trainingData.shape[1]))\n",
        "reducedFeatures = int(originalFeatures*0.8)\n",
        "thld = importances[indices[reducedFeatures - 1]]\n",
        "old_accuracy = classifier.score(testingData, testingLabels)\n",
        "print ('reduced features:', reducedFeatures)\n",
        "new_accuracy = 0.0\n",
        "\n",
        "importance_result = importanceFunction(trainingData, trainingLabels, testingData, testingLabels);\n",
        "\n"
      ]
    },
    {
      "cell_type": "code",
      "execution_count": null,
      "metadata": {
        "id": "gCdVZunOSAay"
      },
      "outputs": [],
      "source": [
        "#parameter tuning\n",
        "csv_rf_outputs = list()\n",
        "csv_rf_outputs.append(['no_tree', 'OOB Score', 'Overall Accuracy', 'Kappa value'])\n",
        "for no_tree in np.arange(50, 1000, 25):\n",
        "    classifier =  RandomForestClassifier(n_estimators=no_tree, criterion='gini', n_jobs=4, bootstrap=True, oob_score=True, max_features=19)\n",
        "    classifier.fit(trainingData, trainingLabels)\n",
        "    predicted_labels_test = classifier.predict(testingData)\n",
        "    csv_rf_outputs.append([no_tree, classifier.oob_score_, classifier.score(testingData, testingLabels), cohen_kappa_score(testingLabels, predicted_labels_test)])\n",
        "    print(\"no_tree: \",no_tree,\"OOB Score: \", classifier.oob_score_,\"Overall Accuracy\",classifier.score(testingData, testingLabels),\"Kappa value:\",cohen_kappa_score(testingLabels, predicted_labels_test))\n",
        "df_out = pd.DataFrame(csv_rf_outputs)\n",
        "df_out.to_csv(\"/output location/RandomForest_Ntree.csv\")  #set output path"
      ]
    },
    {
      "cell_type": "code",
      "execution_count": null,
      "metadata": {
        "id": "iXKFTVjFSAay"
      },
      "outputs": [],
      "source": [
        "# Predict class label of unknown pixels\n",
        "noSamples = rows*cols\n",
        "flat_pixels = bandsData.reshape((noSamples, noBands))\n",
        "result = classifier.predict(flat_pixels)\n",
        "p_vals = classifier.predict_proba(flat_pixels)\n"
      ]
    },
    {
      "cell_type": "code",
      "execution_count": null,
      "metadata": {
        "id": "Fni0R3nZSAay"
      },
      "outputs": [],
      "source": [
        "#classification accuracy\n",
        "\n",
        "print(\"OOB Score: \", classifier.oob_score_)\n",
        "predicted_labels = classifier.predict(trainingData)\n",
        "lbl_cnt = (np.unique(trainingLabels)).size\n",
        "df = pd.DataFrame(check_accuracy(trainingLabels, predicted_labels, 6))\n",
        "df.to_csv(r\"/output path/CM.csv\", index=False)    #set output path\n",
        "\n",
        "score_oa = classifier.score(trainingData, trainingLabels)\n",
        "print ('training set OA:', score_oa)\n",
        "score_oa_test = classifier.score(testingData, testingLabels)\n",
        "print ('testing set OA:', score_oa_test)\n",
        "\n",
        "predicted_labels_test = classifier.predict(testingData)\n",
        "test_lbl_cnt = (np.unique(testingLabels)).size\n",
        "\n",
        "print('Testing Labels: ',np.unique(testingLabels))\n",
        "print('Predicted Labels: ',np.unique(predicted_labels_test))\n",
        "\n",
        "df_test = pd.DataFrame(check_accuracy(testingLabels, predicted_labels_test, 6))\n",
        "df_test.to_csv('/output path/CM_test.csv', index=False)      #set output path\n",
        "\n",
        "print('Confusion Matrices Created!')\n",
        "\n",
        "###kappa value=======\n",
        "kappa_score = cohen_kappa_score(trainingLabels, predicted_labels)\n",
        "print ('kappa value training: ', kappa_score)\n",
        "kappa_score_test = cohen_kappa_score(testingLabels, predicted_labels_test)\n",
        "print ('kappa value testing: ', kappa_score_test)\n",
        "\n",
        "rmse_test = math.sqrt(mean_squared_error(testingLabels, predicted_labels_test))\n",
        "print (\"rmse error test: \", rmse_test)"
      ]
    },
    {
      "cell_type": "code",
      "execution_count": null,
      "metadata": {
        "id": "KSmFDjUMSAaz"
      },
      "outputs": [],
      "source": [
        "# Create a GeoTIFF file with the given data\n",
        "b_count = p_vals.shape[1]\n",
        "\n",
        "classification = result.reshape((cols, rows, 1))\n",
        "prob_arr = p_vals.reshape((cols, rows, b_count))\n",
        "\n",
        "createGeotiff(outRaster, classification, geo_transform, projection, gdal.GDT_UInt16)\n",
        "createGeotiff(out_prob, prob_arr, geo_transform, projection, gdal.GDT_Float32, b_count)\n",
        "\n",
        "print('Classified Tiff Image created!')"
      ]
    },
    {
      "cell_type": "code",
      "execution_count": null,
      "metadata": {
        "id": "5Dl7GO6CSAaz"
      },
      "outputs": [],
      "source": [
        "#visualise the classified output\n",
        "img = plt.imread(r\"/path to the classified image/RandomForest.tif\")    #set input path for the generated classified image\n",
        "plt.imshow(img)\n",
        "plt.show()"
      ]
    }
  ],
  "metadata": {
    "kernelspec": {
      "display_name": "Python 3",
      "language": "python",
      "name": "python3"
    },
    "language_info": {
      "codemirror_mode": {
        "name": "ipython",
        "version": 3
      },
      "file_extension": ".py",
      "mimetype": "text/x-python",
      "name": "python",
      "nbconvert_exporter": "python",
      "pygments_lexer": "ipython3",
      "version": "3.7.3"
    },
    "colab": {
      "provenance": []
    }
  },
  "nbformat": 4,
  "nbformat_minor": 0
}